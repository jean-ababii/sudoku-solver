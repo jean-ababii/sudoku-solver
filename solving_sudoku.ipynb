{
  "nbformat": 4,
  "nbformat_minor": 0,
  "metadata": {
    "colab": {
      "name": "solving_sudoku.ipynb",
      "provenance": []
    },
    "kernelspec": {
      "name": "python3",
      "display_name": "Python 3"
    }
  },
  "cells": [
    {
      "cell_type": "markdown",
      "metadata": {
        "id": "TZUZ2HAfu1Vm"
      },
      "source": [
        "# Useful functions"
      ]
    },
    {
      "cell_type": "code",
      "metadata": {
        "id": "clqq8NFgGpXA"
      },
      "source": [
        "def display_grid():\r\n",
        "  \"\"\"\r\n",
        "  Display a 9x9 sudoku grid\r\n",
        "  \"\"\"\r\n",
        "  \r\n",
        "  for nb_line, line in enumerate(grid):\r\n",
        "    if nb_line == 3 or nb_line == 6:\r\n",
        "      print(\"----------------------\")\r\n",
        "    print(line[0], line[1], line[2], \"|\", line[3], line[4], line[5], \"|\", line[6], line[7], line[8])\r\n",
        "  print(\"\\n\")"
      ],
      "execution_count": 1,
      "outputs": []
    },
    {
      "cell_type": "code",
      "metadata": {
        "id": "bTKIvT4STLLQ"
      },
      "source": [
        "def create_possibilities():\r\n",
        "  \"\"\"\r\n",
        "  Initialize the possibilities array, with the 9 different values for each position\r\n",
        "  \"\"\"\r\n",
        "  \r\n",
        "  SIZE = 9\r\n",
        "\r\n",
        "  possibilities = []\r\n",
        "\r\n",
        "  for i in range(SIZE):\r\n",
        "    possibilities.append([])\r\n",
        "    for j in range(SIZE):\r\n",
        "      possibilities[i].append([1, 2, 3, 4, 5, 6, 7, 8, 9])\r\n",
        "\r\n",
        "  return possibilities"
      ],
      "execution_count": 2,
      "outputs": []
    },
    {
      "cell_type": "code",
      "metadata": {
        "id": "FN-LHRs5LRKk"
      },
      "source": [
        "def initial_possibilities_update():\r\n",
        "  \"\"\"\r\n",
        "  For the given numbers on the grid, update the possibilities for these positions\r\n",
        "  \"\"\"\r\n",
        "\r\n",
        "  global grid\r\n",
        "  global possibilities\r\n",
        "\r\n",
        "  for i in range(len(grid)):\r\n",
        "    for j in range(len(grid)):\r\n",
        "      if grid[i][j] != 0:\r\n",
        "        possibilities[i][j]=[grid[i][j]]"
      ],
      "execution_count": 3,
      "outputs": []
    },
    {
      "cell_type": "code",
      "metadata": {
        "id": "NWH5lwbOMUGy"
      },
      "source": [
        "def update_possibilities_line():\r\n",
        "  \"\"\"\r\n",
        "  update the possibilities for the positions on the same lines as found/given values\r\n",
        "  \"\"\"\r\n",
        "\r\n",
        "  global grid\r\n",
        "  global possibilities\r\n",
        "\r\n",
        "  for i in range(len(grid)):\r\n",
        "    for j in range(len(grid)):\r\n",
        "      if grid[i][j] != 0:\r\n",
        "        for k in range(len(grid)):\r\n",
        "          if k != j:\r\n",
        "            try:\r\n",
        "              possibilities[i][k].remove(grid[i][j])\r\n",
        "            except ValueError:\r\n",
        "              pass  # do nothing!"
      ],
      "execution_count": 4,
      "outputs": []
    },
    {
      "cell_type": "code",
      "metadata": {
        "id": "GoSPzBnLU6fd"
      },
      "source": [
        "def update_possibilities_column():\r\n",
        "  \"\"\"\r\n",
        "  update the possibilities for the positions on the same columns as found/given values\r\n",
        "  \"\"\"\r\n",
        "\r\n",
        "  global grid\r\n",
        "  global possibilities\r\n",
        "  \r\n",
        "  for i in range(len(grid)):\r\n",
        "    for j in range(len(grid)):\r\n",
        "      if grid[i][j] != 0:\r\n",
        "        for k in range(len(grid)):\r\n",
        "          if k != i:\r\n",
        "            try:\r\n",
        "              possibilities[k][j].remove(grid[i][j])\r\n",
        "            except ValueError:\r\n",
        "              pass  # do nothing!"
      ],
      "execution_count": 5,
      "outputs": []
    },
    {
      "cell_type": "code",
      "metadata": {
        "id": "QpyTEWxsVx7w"
      },
      "source": [
        "def update_possibilities_square():\r\n",
        "  \"\"\"\r\n",
        "  update the possibilities for the positions in the same 3x3 square as found/given values\r\n",
        "  \"\"\"\r\n",
        "\r\n",
        "  global grid\r\n",
        "  global possibilities\r\n",
        "\r\n",
        "  for i in range(len(grid)):\r\n",
        "    for j in range(len(grid)):\r\n",
        "\r\n",
        "      #TOP LEFT SQUARE\r\n",
        "      if grid[i][j] != 0:\r\n",
        "        if i<3 and j<3:\r\n",
        "          for k in range(0, 3):\r\n",
        "            for l in range(0, 3):\r\n",
        "              if not (k==i and l==j):\r\n",
        "                try:\r\n",
        "                  possibilities[k][l].remove(grid[i][j])\r\n",
        "                except ValueError:\r\n",
        "                  pass  # do nothing!\r\n",
        "                  \r\n",
        "        #TOP MIDDLE SQUARE\r\n",
        "        if i<3 and j>=3 and j<6:\r\n",
        "          for k in range(0, 3):\r\n",
        "            for l in range(3, 6):\r\n",
        "              if not (k==i and l==j):\r\n",
        "                try:\r\n",
        "                  possibilities[k][l].remove(grid[i][j])\r\n",
        "                except ValueError:\r\n",
        "                  pass  # do nothing!\r\n",
        "\r\n",
        "        #TOP RIGHT SQUARE\r\n",
        "        if i<3 and j>=6:\r\n",
        "          for k in range(0, 3):\r\n",
        "            for l in range(6, 9):\r\n",
        "              if not (k==i and l==j):\r\n",
        "                try:\r\n",
        "                  possibilities[k][l].remove(grid[i][j])\r\n",
        "                except ValueError:\r\n",
        "                  pass  # do nothing!\r\n",
        "\r\n",
        "      #MIDDLE LEFT SQUARE\r\n",
        "      if grid[i][j] != 0:\r\n",
        "        if i>=3 and i<6 and j<3:\r\n",
        "          for k in range(3, 6):\r\n",
        "            for l in range(0, 3):\r\n",
        "              if not (k==i and l==j):\r\n",
        "                try:\r\n",
        "                  possibilities[k][l].remove(grid[i][j])\r\n",
        "                except ValueError:\r\n",
        "                  pass  # do nothing!\r\n",
        "\r\n",
        "        #MIDDLE SQUARE\r\n",
        "        if i>=3 and i<6 and j>=3 and j<6:\r\n",
        "          for k in range(3, 6):\r\n",
        "            for l in range(3, 6):\r\n",
        "              if not (k==i and l==j):\r\n",
        "                try:\r\n",
        "                  possibilities[k][l].remove(grid[i][j])\r\n",
        "                except ValueError:\r\n",
        "                  pass  # do nothing!\r\n",
        "\r\n",
        "        #MIDDLE RIGHT SQUARE\r\n",
        "        if i>=3 and i<6 and j>=6:\r\n",
        "          for k in range(3, 6):\r\n",
        "            for l in range(6, 9):\r\n",
        "              if not (k==i and l==j):\r\n",
        "                try:\r\n",
        "                  possibilities[k][l].remove(grid[i][j])\r\n",
        "                except ValueError:\r\n",
        "                  pass  # do nothing!\r\n",
        "\r\n",
        "      #LOW LEFT SQUARE\r\n",
        "      if grid[i][j] != 0:\r\n",
        "        if i>=6 and j<3:\r\n",
        "          for k in range(6, 9):\r\n",
        "            for l in range(0, 3):\r\n",
        "              if not (k==i and l==j):\r\n",
        "                try:\r\n",
        "                  possibilities[k][l].remove(grid[i][j])\r\n",
        "                except ValueError:\r\n",
        "                  pass  # do nothing!\r\n",
        "\r\n",
        "        #LOW MIDDLE SQUARE\r\n",
        "        if i>=6 and j>=3 and j<6:\r\n",
        "          for k in range(6, 9):\r\n",
        "            for l in range(3, 6):\r\n",
        "              if not (k==i and l==j):\r\n",
        "                try:\r\n",
        "                  possibilities[k][l].remove(grid[i][j])\r\n",
        "                except ValueError:\r\n",
        "                  pass  # do nothing!\r\n",
        "                  \r\n",
        "        #LOW RIGHT SQUARE\r\n",
        "        if i>=6 and j>=6:\r\n",
        "          for k in range(6, 9):\r\n",
        "            for l in range(6, 9):\r\n",
        "              if not (k==i and l==j):\r\n",
        "                try:\r\n",
        "                  possibilities[k][l].remove(grid[i][j])\r\n",
        "                except ValueError:\r\n",
        "                  pass  # do nothing!\r\n"
      ],
      "execution_count": 6,
      "outputs": []
    },
    {
      "cell_type": "code",
      "metadata": {
        "id": "c5Nqo-FtMpk7"
      },
      "source": [
        "def complete_grid():\r\n",
        "  \"\"\"\r\n",
        "  completing the grid when there are only one possibility left for this position\r\n",
        "  \"\"\"\r\n",
        "\r\n",
        "  global grid\r\n",
        "  global possibilities\r\n",
        "  \r\n",
        "  was_modified = False\r\n",
        "  modifications = []\r\n",
        "  for i in range(len(grid)):\r\n",
        "    for j in range(len(grid)):\r\n",
        "      if grid[i][j] == 0 and len(possibilities[i][j])==1:\r\n",
        "        was_modified = True\r\n",
        "        modifications.append([i, j, possibilities[i][j][0]])\r\n",
        "        grid[i][j] = possibilities[i][j][0]\r\n",
        "  return was_modified, modifications"
      ],
      "execution_count": 7,
      "outputs": []
    },
    {
      "cell_type": "code",
      "metadata": {
        "id": "0g5jQUp6tlIS"
      },
      "source": [
        "def print_modifications(modifications):\r\n",
        "  \"\"\"\r\n",
        "  prints the position (starting counting at 0) and the value on the grid\r\n",
        "\r\n",
        "  Parameters: list of lists such as [line, column, attributed_value]\r\n",
        "  \"\"\"\r\n",
        "\r\n",
        "  for m in modifications:\r\n",
        "    print(\"[\", m[0], \",\", m[1],\"] =>\", m[2])\r\n",
        "  print(\"\\n\")"
      ],
      "execution_count": 8,
      "outputs": []
    },
    {
      "cell_type": "code",
      "metadata": {
        "id": "PVwJ00nU0cpp"
      },
      "source": [
        "def testing_each_line():\r\n",
        "  \"\"\"\r\n",
        "  if there is only one position on a line which can take a non attributed value,\r\n",
        "  attribute this value to this position in the possibilities array\r\n",
        "  \"\"\"\r\n",
        "\r\n",
        "  global grid\r\n",
        "  global possibilities\r\n",
        "  \r\n",
        "  for i in range(len(grid)):\r\n",
        "    concatenation = []\r\n",
        "    for j in range(len(grid)):\r\n",
        "      if len(possibilities[i][j])!=1:\r\n",
        "        concatenation = concatenation + possibilities[i][j]\r\n",
        "    for element in concatenation:\r\n",
        "      if concatenation.count(element) == 1:\r\n",
        "        for k in range(len(grid)):\r\n",
        "          if element in possibilities[i][k]:\r\n",
        "            possibilities[i][k] = [element]\r\n",
        "  any_change, partial_modifications = complete_grid()\r\n",
        "  return(any_change, partial_modifications)"
      ],
      "execution_count": 9,
      "outputs": []
    },
    {
      "cell_type": "code",
      "metadata": {
        "id": "OikUNE005gU-"
      },
      "source": [
        "def testing_each_column():\r\n",
        "  \"\"\"\r\n",
        "  if there is only one position on a column which can take a non attributed value,\r\n",
        "  attribute this value to this position in the possibilities array\r\n",
        "  \"\"\"\r\n",
        "\r\n",
        "  global grid\r\n",
        "  global possibilities\r\n",
        "\r\n",
        "  for j in range(len(grid)):\r\n",
        "    concatenation = []\r\n",
        "    for i in range(len(grid)):\r\n",
        "      if len(possibilities[i][j])!=1:\r\n",
        "        concatenation = concatenation + possibilities[i][j]\r\n",
        "    for element in concatenation:\r\n",
        "      if concatenation.count(element) == 1:\r\n",
        "        for k in range(len(grid)):\r\n",
        "          if element in possibilities[k][j]:\r\n",
        "            possibilities[k][j] = [element]\r\n",
        "  any_change, partial_modifications = complete_grid()\r\n",
        "  return(any_change, partial_modifications)"
      ],
      "execution_count": 10,
      "outputs": []
    },
    {
      "cell_type": "code",
      "metadata": {
        "id": "zThM5qv64zdJ"
      },
      "source": [
        "def testing_each_square():\r\n",
        "  \"\"\"\r\n",
        "  if there is only one position in a 3x3 square which can take a non attributed value,\r\n",
        "  attribute this value to this position in the possibilities array\r\n",
        "  \"\"\"\r\n",
        "\r\n",
        "  global grid\r\n",
        "  global possibilities\r\n",
        "\r\n",
        "  # TOP LEFT SQUARE\r\n",
        "  concatenation = []\r\n",
        "  for i in range(0, 3):\r\n",
        "    for j in range(0, 3):\r\n",
        "      if len(possibilities[i][j])!=1:\r\n",
        "        concatenation = concatenation + possibilities[i][j]\r\n",
        "  for element in concatenation:\r\n",
        "    if concatenation.count(element) == 1:\r\n",
        "      for k in range(0, 3):\r\n",
        "        for l in range(0, 3):\r\n",
        "          if element in possibilities[k][l]:\r\n",
        "            possibilities[k][l] = [element]\r\n",
        "\r\n",
        "  # TOP MIDDLE SQUARE\r\n",
        "  concatenation = []\r\n",
        "  for i in range(0, 3):\r\n",
        "    for j in range(3, 6):\r\n",
        "      if len(possibilities[i][j])!=1:\r\n",
        "        concatenation = concatenation + possibilities[i][j]\r\n",
        "  for element in concatenation:\r\n",
        "    if concatenation.count(element) == 1:\r\n",
        "      for k in range(0, 3):\r\n",
        "        for l in range(3, 6):\r\n",
        "          if element in possibilities[k][l]:\r\n",
        "            possibilities[k][l] = [element]\r\n",
        "\r\n",
        "  # TOP RIGHT SQUARE\r\n",
        "  concatenation = []\r\n",
        "  for i in range(0, 3):\r\n",
        "    for j in range(6, 9):\r\n",
        "      if len(possibilities[i][j])!=1:\r\n",
        "        concatenation = concatenation + possibilities[i][j]\r\n",
        "  for element in concatenation:\r\n",
        "    if concatenation.count(element) == 1:\r\n",
        "      for k in range(0, 3):\r\n",
        "        for l in range(6, 9):\r\n",
        "          if element in possibilities[k][l]:\r\n",
        "            possibilities[k][l] = [element]\r\n",
        "\r\n",
        "  # MIDDLE LEFT SQUARE\r\n",
        "  concatenation = []\r\n",
        "  for i in range(3, 6):\r\n",
        "    for j in range(0, 3):\r\n",
        "      if len(possibilities[i][j])!=1:\r\n",
        "        concatenation = concatenation + possibilities[i][j]\r\n",
        "  for element in concatenation:\r\n",
        "    if concatenation.count(element) == 1:\r\n",
        "      for k in range(3, 6):\r\n",
        "        for l in range(0, 3):\r\n",
        "          if element in possibilities[k][l]:\r\n",
        "            possibilities[k][l] = [element]\r\n",
        "\r\n",
        "  # MIDDLE SQUARE\r\n",
        "  concatenation = []\r\n",
        "  for i in range(3, 6):\r\n",
        "    for j in range(3, 6):\r\n",
        "      if len(possibilities[i][j])!=1:\r\n",
        "        concatenation = concatenation + possibilities[i][j]\r\n",
        "  for element in concatenation:\r\n",
        "    if concatenation.count(element) == 1:\r\n",
        "      for k in range(3, 6):\r\n",
        "        for l in range(3, 6):\r\n",
        "          if element in possibilities[k][l]:\r\n",
        "            possibilities[k][l] = [element]\r\n",
        "\r\n",
        "  # MIDDLE RIGHT SQUARE\r\n",
        "  concatenation = []\r\n",
        "  for i in range(3, 6):\r\n",
        "    for j in range(6, 9):\r\n",
        "      if len(possibilities[i][j])!=1:\r\n",
        "        concatenation = concatenation + possibilities[i][j]\r\n",
        "  for element in concatenation:\r\n",
        "    if concatenation.count(element) == 1:\r\n",
        "      for k in range(3, 6):\r\n",
        "        for l in range(6, 9):\r\n",
        "          if element in possibilities[k][l]:\r\n",
        "            possibilities[k][l] = [element]\r\n",
        "\r\n",
        "  # LOW LEFT SQUARE\r\n",
        "  concatenation = []\r\n",
        "  for i in range(6, 9):\r\n",
        "    for j in range(0, 3):\r\n",
        "      if len(possibilities[i][j])!=1:\r\n",
        "        concatenation = concatenation + possibilities[i][j]\r\n",
        "  for element in concatenation:\r\n",
        "    if concatenation.count(element) == 1:\r\n",
        "      for k in range(6, 9):\r\n",
        "        for l in range(0, 3):\r\n",
        "          if element in possibilities[k][l]:\r\n",
        "            possibilities[k][l] = [element]\r\n",
        "\r\n",
        "  # LOW MIDDLE SQUARE\r\n",
        "  concatenation = []\r\n",
        "  for i in range(6, 9):\r\n",
        "    for j in range(3, 6):\r\n",
        "      if len(possibilities[i][j])!=1:\r\n",
        "        concatenation = concatenation + possibilities[i][j]\r\n",
        "  for element in concatenation:\r\n",
        "    if concatenation.count(element) == 1:\r\n",
        "      for k in range(6, 9):\r\n",
        "        for l in range(3, 6):\r\n",
        "          if element in possibilities[k][l]:\r\n",
        "            possibilities[k][l] = [element]\r\n",
        "\r\n",
        "  # LOW RIGHT SQUARE\r\n",
        "  concatenation = []\r\n",
        "  for i in range(6, 9):\r\n",
        "    for j in range(6, 9):\r\n",
        "      if len(possibilities[i][j])!=1:\r\n",
        "        concatenation = concatenation + possibilities[i][j]\r\n",
        "  for element in concatenation:\r\n",
        "    if concatenation.count(element) == 1:\r\n",
        "      for k in range(6, 9):\r\n",
        "        for l in range(6, 9):\r\n",
        "          if element in possibilities[k][l]:\r\n",
        "            possibilities[k][l] = [element]\r\n",
        "\r\n",
        "  any_change, partial_modifications = complete_grid()\r\n",
        "  return(any_change, partial_modifications)"
      ],
      "execution_count": 11,
      "outputs": []
    },
    {
      "cell_type": "code",
      "metadata": {
        "id": "F0bHt8HpUZX1"
      },
      "source": [
        "def updating_grid():\r\n",
        "  \"\"\"\r\n",
        "  looping through the update_possibilities_line(), update_possibilities_column(),\r\n",
        "  and update_possibilities_square() till the possibilities stop evolving\r\n",
        "  \"\"\"\r\n",
        "\r\n",
        "  continue_looping = True\r\n",
        "  any_change = False\r\n",
        "  mod = []\r\n",
        "  while continue_looping == True:\r\n",
        "    update_possibilities_line()\r\n",
        "    temp_bool_1, partial_modifications = complete_grid()\r\n",
        "    if partial_modifications:\r\n",
        "      for element in partial_modifications:\r\n",
        "        mod.append(element)\r\n",
        "    update_possibilities_column()\r\n",
        "    temp_bool_2, partial_modifications = complete_grid()\r\n",
        "    if partial_modifications:\r\n",
        "      for element in partial_modifications:\r\n",
        "        mod.append(element)\r\n",
        "    update_possibilities_square()\r\n",
        "    temp_bool_3, partial_modifications = complete_grid()\r\n",
        "    if partial_modifications:\r\n",
        "      for element in partial_modifications:\r\n",
        "        mod.append(element)\r\n",
        "\r\n",
        "    continue_looping = temp_bool_1 or temp_bool_2 or temp_bool_3\r\n",
        "    if any_change == False and continue_looping == True:\r\n",
        "      any_change = True\r\n",
        "      \r\n",
        "  return(any_change, mod)"
      ],
      "execution_count": 12,
      "outputs": []
    },
    {
      "cell_type": "code",
      "metadata": {
        "id": "Qu-wwN3nHL2D"
      },
      "source": [
        "def updating_modifications(mod, partial_mod):\r\n",
        "  \"\"\"\r\n",
        "  if a new array of modifications is not empty, add these modifications to the\r\n",
        "  principal array\r\n",
        "  \"\"\"\r\n",
        "  \r\n",
        "  if partial_mod: #if partial_mod is not empty\r\n",
        "    for element in partial_mod:\r\n",
        "      mod.append(element)\r\n",
        "  return mod"
      ],
      "execution_count": 13,
      "outputs": []
    },
    {
      "cell_type": "markdown",
      "metadata": {
        "id": "UFjfbtZqu7Pt"
      },
      "source": [
        "## 1st method: Using the constraints"
      ]
    },
    {
      "cell_type": "code",
      "metadata": {
        "id": "4xV485Qp7wAC"
      },
      "source": [
        "from copy import deepcopy"
      ],
      "execution_count": 14,
      "outputs": []
    },
    {
      "cell_type": "code",
      "metadata": {
        "id": "2ocKqmJkvgEL"
      },
      "source": [
        "#These grids come from: https://www.e-sudoku.fr/jouer-sudoku-solo.php\r\n",
        "\r\n",
        "EASY_GRID_1 = [[5, 0, 0, 9, 6, 0, 0, 0, 8],\r\n",
        "               [9, 0, 0, 5, 8, 1, 4, 0, 3],\r\n",
        "               [0, 3, 0, 0, 4, 0, 0, 0, 0],\r\n",
        "               [0, 0, 3, 0, 5, 0, 0, 0, 9],\r\n",
        "               [7, 0, 9, 0, 0, 0, 5, 0, 2],\r\n",
        "               [6, 0, 0, 0, 2, 0, 3, 0, 0],\r\n",
        "               [0, 0, 0, 0, 1, 0, 0, 6, 0],\r\n",
        "               [2, 0, 5, 6, 9, 4, 0, 0, 7],\r\n",
        "               [1, 0, 0, 0, 7, 8, 0, 0, 5]]\r\n",
        "\r\n",
        "EASY_GRID_2 = [[0, 6, 0, 0, 0, 8, 4, 0, 2],  #n° 112080 - sudoku facile\r\n",
        "               [0, 0, 4, 2, 6, 3, 9, 0, 0],\r\n",
        "               [9, 0, 0, 5, 7, 0, 0, 0, 0],\r\n",
        "               [0, 1, 3, 8, 9, 0, 0, 0, 0],\r\n",
        "               [0, 4, 9, 0, 0, 0, 2, 8, 0],\r\n",
        "               [0, 0, 0, 0, 2, 1, 6, 9, 0],\r\n",
        "               [0, 0, 0, 0, 4, 7, 0, 0, 6],\r\n",
        "               [0, 0, 7, 6, 5, 9, 1, 0, 0],\r\n",
        "               [4, 0, 6, 1, 0, 0, 0, 3, 0]]\r\n",
        "\r\n",
        "MEDIUM_GRID_1 = [[0, 5, 0, 8, 0, 0, 7, 3, 0],\r\n",
        "                 [0, 0, 3, 0, 9, 0, 8, 0, 0],\r\n",
        "                 [0, 0, 0, 1, 0, 0, 0, 0, 2],\r\n",
        "                 [0, 0, 0, 2, 0, 1, 0, 9, 5],\r\n",
        "                 [0, 4, 0, 0, 3, 0, 0, 8, 0],\r\n",
        "                 [2, 9, 0, 4, 0, 8, 0, 0, 0],\r\n",
        "                 [8, 0, 0, 0, 0, 7, 0, 0, 0],\r\n",
        "                 [0, 0, 7, 0, 1, 0, 5, 0, 0],\r\n",
        "                 [0, 3, 5, 0, 0, 6, 0, 2, 0]]\r\n",
        "\r\n",
        "HARD_GRID_1 = [[0, 0, 8, 0, 3, 0, 0, 0, 5],   #  n° 33435 - sudoku difficile\r\n",
        "               [0, 3, 0, 0, 0, 7, 0, 0, 0],\r\n",
        "               [0, 4, 0, 0, 0, 6, 9, 0, 7],\r\n",
        "               [2, 0, 0, 0, 0, 1, 4, 0, 0],\r\n",
        "               [0, 5, 7, 0, 0, 0, 8, 1, 0],\r\n",
        "               [0, 0, 3, 5, 0, 0, 0, 0, 9],\r\n",
        "               [5, 0, 4, 6, 0, 0, 0, 8, 0],\r\n",
        "               [0, 0, 0, 1, 0, 0, 0, 2, 0],\r\n",
        "               [8, 0, 0, 0, 4, 0, 7, 0, 0]]\r\n",
        "\r\n",
        "DIABOLIC_GRID_1 = [[6, 9, 0, 0, 1, 8, 0, 5, 0],   # n° 45429 - sudoku diabolique \r\n",
        "                   [0, 2, 0, 0, 0, 0, 6, 0, 0], \r\n",
        "                   [0, 0, 0, 0, 5, 0, 0, 1, 0], \r\n",
        "                   [0, 8, 7, 4, 0, 0, 2, 0, 0], \r\n",
        "                   [0, 0, 0, 0, 0, 0, 0, 0, 0], \r\n",
        "                   [0, 0, 6, 0, 0, 7, 5, 4, 0], \r\n",
        "                   [0, 7, 0, 0, 4, 0, 0, 0, 0], \r\n",
        "                   [0, 0, 9, 0, 0, 0, 0, 2, 0], \r\n",
        "                   [0, 6, 0, 5, 2, 0, 0, 3, 9]]"
      ],
      "execution_count": 15,
      "outputs": []
    },
    {
      "cell_type": "code",
      "metadata": {
        "id": "_IMRz7zzv5jK"
      },
      "source": [
        "grid = deepcopy(DIABOLIC_GRID_1)  #to copy value and not reference it"
      ],
      "execution_count": 16,
      "outputs": []
    },
    {
      "cell_type": "code",
      "metadata": {
        "colab": {
          "base_uri": "https://localhost:8080/"
        },
        "id": "yJjqTKeQvQSm",
        "outputId": "f6495fa9-1ad1-4c6e-c1e8-0bddf13f7b9c"
      },
      "source": [
        "#initialisation\r\n",
        "\r\n",
        "display_grid()\r\n",
        "\r\n",
        "possibilities = create_possibilities()\r\n",
        "\r\n",
        "initial_possibilities_update()"
      ],
      "execution_count": 17,
      "outputs": [
        {
          "output_type": "stream",
          "text": [
            "6 9 0 | 0 1 8 | 0 5 0\n",
            "0 2 0 | 0 0 0 | 6 0 0\n",
            "0 0 0 | 0 5 0 | 0 1 0\n",
            "----------------------\n",
            "0 8 7 | 4 0 0 | 2 0 0\n",
            "0 0 0 | 0 0 0 | 0 0 0\n",
            "0 0 6 | 0 0 7 | 5 4 0\n",
            "----------------------\n",
            "0 7 0 | 0 4 0 | 0 0 0\n",
            "0 0 9 | 0 0 0 | 0 2 0\n",
            "0 6 0 | 5 2 0 | 0 3 9\n",
            "\n",
            "\n"
          ],
          "name": "stdout"
        }
      ]
    },
    {
      "cell_type": "code",
      "metadata": {
        "colab": {
          "base_uri": "https://localhost:8080/"
        },
        "id": "UdhGvYArYxxI",
        "outputId": "7f39e34a-5bca-4f5a-c2f1-8bf94f34d141"
      },
      "source": [
        "was_modified = True #boolean detecting in there was any change in this loop\r\n",
        "loop_nb = 1\r\n",
        "modifications = [] #all the modifications during this loop\r\n",
        "\r\n",
        "while was_modified == True: #while there are still changes\r\n",
        "\r\n",
        "  was_modified = False\r\n",
        "\r\n",
        "  change_1, partial_modifications = updating_grid()\r\n",
        "  updating_modifications(modifications, partial_modifications)\r\n",
        "  \r\n",
        "  temp_bool_1, partial_modifications = testing_each_line()\r\n",
        "  updating_modifications(modifications, partial_modifications)\r\n",
        "\r\n",
        "  change_2, partial_modifications = updating_grid()\r\n",
        "  updating_modifications(modifications, partial_modifications)\r\n",
        "\r\n",
        "  temp_bool_2, partial_modifications = testing_each_column()\r\n",
        "  updating_modifications(modifications, partial_modifications)\r\n",
        "\r\n",
        "  change_3, partial_modifications = updating_grid()\r\n",
        "  updating_modifications(modifications, partial_modifications)\r\n",
        "\r\n",
        "  temp_bool_3, partial_modifications = testing_each_square()\r\n",
        "  updating_modifications(modifications, partial_modifications)\r\n",
        "\r\n",
        "  was_modified = change_1 or change_2 or change_3 or temp_bool_1 or temp_bool_2 or temp_bool_3\r\n",
        "\r\n",
        "  if was_modified == True:\r\n",
        "    print (\"LOOP\", loop_nb, \":\\n\")\r\n",
        "    print_modifications(modifications)\r\n",
        "    display_grid()\r\n",
        "  loop_nb = loop_nb + 1"
      ],
      "execution_count": 18,
      "outputs": [
        {
          "output_type": "stream",
          "text": [
            "LOOP 1 :\n",
            "\n",
            "[ 8 , 5 ] => 1\n",
            "[ 8 , 6 ] => 7\n",
            "\n",
            "\n",
            "6 9 0 | 0 1 8 | 0 5 0\n",
            "0 2 0 | 0 0 0 | 6 0 0\n",
            "0 0 0 | 0 5 0 | 0 1 0\n",
            "----------------------\n",
            "0 8 7 | 4 0 0 | 2 0 0\n",
            "0 0 0 | 0 0 0 | 0 0 0\n",
            "0 0 6 | 0 0 7 | 5 4 0\n",
            "----------------------\n",
            "0 7 0 | 0 4 0 | 0 0 0\n",
            "0 0 9 | 0 0 0 | 0 2 0\n",
            "0 6 0 | 5 2 1 | 7 3 9\n",
            "\n",
            "\n"
          ],
          "name": "stdout"
        }
      ]
    },
    {
      "cell_type": "markdown",
      "metadata": {
        "id": "hjgz3lj9ff_m"
      },
      "source": [
        "# 2nd method : Using a recursive function"
      ]
    },
    {
      "cell_type": "markdown",
      "metadata": {
        "id": "pkiGME17ftFQ"
      },
      "source": [
        "Based on the solution of Computerphile: https://www.youtube.com/watch?v=G_UYXzGuqvM&ab_channel=Computerphile"
      ]
    },
    {
      "cell_type": "code",
      "metadata": {
        "id": "EaY2ff1wffuG"
      },
      "source": [
        "def is_possible(y, x, n):\r\n",
        "  \"\"\"\r\n",
        "  checking if it's possible to put the number n at the position [y,x] in the grid\r\n",
        "  \"\"\"\r\n",
        "\r\n",
        "  global grid\r\n",
        "\r\n",
        "  for i in range(9):\r\n",
        "    if grid[y][i] == n:\r\n",
        "      return False\r\n",
        "  for i in range(9):\r\n",
        "    if grid[i][x] == n:\r\n",
        "      return False\r\n",
        "\r\n",
        "  x0 = (x//3)*3\r\n",
        "  y0 = (y//3)*3\r\n",
        "  for i in range(3):\r\n",
        "    for j in range(3):\r\n",
        "      if grid[y0+i][x0+j] == n:\r\n",
        "        return False\r\n",
        "  \r\n",
        "  return True"
      ],
      "execution_count": 19,
      "outputs": []
    },
    {
      "cell_type": "code",
      "metadata": {
        "id": "EmaODkYbiM5Z"
      },
      "source": [
        "def solve():\r\n",
        "  \"\"\"\r\n",
        "  recursively trying every possbility, and then backtracking if the solution is a dead end\r\n",
        "  \"\"\"\r\n",
        "\r\n",
        "  global grid\r\n",
        "  for y in range(9):\r\n",
        "    for x in range(9):\r\n",
        "      if grid[y][x] == 0:\r\n",
        "        for n in range(1,10):\r\n",
        "          if is_possible(y, x, n):\r\n",
        "            grid[y][x] = n\r\n",
        "            solve()\r\n",
        "            grid[y][x] = 0\r\n",
        "        return\r\n",
        "  display_grid()"
      ],
      "execution_count": 20,
      "outputs": []
    },
    {
      "cell_type": "code",
      "metadata": {
        "id": "2L1bsLmxjUc5"
      },
      "source": [
        "grid = deepcopy(DIABOLIC_GRID_1)  #to copy value and not reference it"
      ],
      "execution_count": 21,
      "outputs": []
    },
    {
      "cell_type": "code",
      "metadata": {
        "colab": {
          "base_uri": "https://localhost:8080/"
        },
        "id": "xmLebsQAlM-q",
        "outputId": "1562fa2a-d52f-49ae-e2bf-9855983ab3af"
      },
      "source": [
        "solve()"
      ],
      "execution_count": 22,
      "outputs": [
        {
          "output_type": "stream",
          "text": [
            "6 9 3 | 7 1 8 | 4 5 2\n",
            "1 2 5 | 3 9 4 | 6 8 7\n",
            "7 4 8 | 6 5 2 | 9 1 3\n",
            "----------------------\n",
            "3 8 7 | 4 6 5 | 2 9 1\n",
            "4 5 2 | 1 8 9 | 3 7 6\n",
            "9 1 6 | 2 3 7 | 5 4 8\n",
            "----------------------\n",
            "2 7 1 | 9 4 3 | 8 6 5\n",
            "5 3 9 | 8 7 6 | 1 2 4\n",
            "8 6 4 | 5 2 1 | 7 3 9\n",
            "\n",
            "\n"
          ],
          "name": "stdout"
        }
      ]
    },
    {
      "cell_type": "markdown",
      "metadata": {
        "id": "L8cdVZeqqK6O"
      },
      "source": [
        "# Performance comparison\r\n",
        "\r\n"
      ]
    },
    {
      "cell_type": "code",
      "metadata": {
        "id": "6A4kIhAlrenf"
      },
      "source": [
        "import time"
      ],
      "execution_count": 23,
      "outputs": []
    },
    {
      "cell_type": "code",
      "metadata": {
        "id": "fZLr_tY-qKUt"
      },
      "source": [
        "grid = deepcopy(MEDIUM_GRID_1)"
      ],
      "execution_count": 24,
      "outputs": []
    },
    {
      "cell_type": "markdown",
      "metadata": {
        "id": "792nbL-dsY_1"
      },
      "source": [
        "1st method:"
      ]
    },
    {
      "cell_type": "code",
      "metadata": {
        "colab": {
          "base_uri": "https://localhost:8080/"
        },
        "id": "-4kxBb16r2yW",
        "outputId": "1d2fd209-ac2d-4234-d862-d9a566c99c52"
      },
      "source": [
        "start = time.time()\r\n",
        "\r\n",
        "possibilities = create_possibilities()\r\n",
        "initial_possibilities_update()\r\n",
        "\r\n",
        "was_modified = True #boolean detecting in there was any change in this loop\r\n",
        "\r\n",
        "while was_modified == True: #while there are still changes\r\n",
        "\r\n",
        "  was_modified = False\r\n",
        "\r\n",
        "  change_1, partial_modifications = updating_grid()  \r\n",
        "  temp_bool_1, partial_modifications = testing_each_line()\r\n",
        "  change_2, partial_modifications = updating_grid()\r\n",
        "  temp_bool_2, partial_modifications = testing_each_column()\r\n",
        "  change_3, partial_modifications = updating_grid()\r\n",
        "  temp_bool_3, partial_modifications = testing_each_square()\r\n",
        "\r\n",
        "  was_modified = change_1 or change_2 or change_3 or temp_bool_1 or temp_bool_2 or temp_bool_3\r\n",
        "\r\n",
        "display_grid()\r\n",
        "\r\n",
        "end = time.time()"
      ],
      "execution_count": 25,
      "outputs": [
        {
          "output_type": "stream",
          "text": [
            "1 5 9 | 8 2 4 | 7 3 6\n",
            "7 2 3 | 6 9 5 | 8 1 4\n",
            "6 8 4 | 1 7 3 | 9 5 2\n",
            "----------------------\n",
            "3 7 8 | 2 6 1 | 4 9 5\n",
            "5 4 6 | 7 3 9 | 2 8 1\n",
            "2 9 1 | 4 5 8 | 6 7 3\n",
            "----------------------\n",
            "8 1 2 | 5 4 7 | 3 6 9\n",
            "9 6 7 | 3 1 2 | 5 4 8\n",
            "4 3 5 | 9 8 6 | 1 2 7\n",
            "\n",
            "\n"
          ],
          "name": "stdout"
        }
      ]
    },
    {
      "cell_type": "code",
      "metadata": {
        "colab": {
          "base_uri": "https://localhost:8080/"
        },
        "id": "7kd7j6mMspGt",
        "outputId": "cdfd7c47-16af-4d7c-b416-abfaff7e46c8"
      },
      "source": [
        "print(\"Time 1st method:\", end-start)"
      ],
      "execution_count": 26,
      "outputs": [
        {
          "output_type": "stream",
          "text": [
            "Time 1st method: 0.024056196212768555\n"
          ],
          "name": "stdout"
        }
      ]
    },
    {
      "cell_type": "markdown",
      "metadata": {
        "id": "iXj-zuCpsgUr"
      },
      "source": [
        "2nd method:"
      ]
    },
    {
      "cell_type": "code",
      "metadata": {
        "id": "DhTdTpfiuMdL"
      },
      "source": [
        "grid = deepcopy(MEDIUM_GRID_1)"
      ],
      "execution_count": 27,
      "outputs": []
    },
    {
      "cell_type": "code",
      "metadata": {
        "colab": {
          "base_uri": "https://localhost:8080/"
        },
        "id": "D3WHrToep9HG",
        "outputId": "1466ecc8-0a80-4360-bd60-f15ad0b02c80"
      },
      "source": [
        "start = time.time()\r\n",
        "solve()\r\n",
        "end = time.time()"
      ],
      "execution_count": 28,
      "outputs": [
        {
          "output_type": "stream",
          "text": [
            "1 5 9 | 8 2 4 | 7 3 6\n",
            "7 2 3 | 6 9 5 | 8 1 4\n",
            "6 8 4 | 1 7 3 | 9 5 2\n",
            "----------------------\n",
            "3 7 8 | 2 6 1 | 4 9 5\n",
            "5 4 6 | 7 3 9 | 2 8 1\n",
            "2 9 1 | 4 5 8 | 6 7 3\n",
            "----------------------\n",
            "8 1 2 | 5 4 7 | 3 6 9\n",
            "9 6 7 | 3 1 2 | 5 4 8\n",
            "4 3 5 | 9 8 6 | 1 2 7\n",
            "\n",
            "\n"
          ],
          "name": "stdout"
        }
      ]
    },
    {
      "cell_type": "code",
      "metadata": {
        "colab": {
          "base_uri": "https://localhost:8080/"
        },
        "id": "-LNsIZ8RrpB4",
        "outputId": "8a3def03-1226-41fb-e534-789b1e0eccb9"
      },
      "source": [
        "print(\"Time 2nd method:\", end-start)"
      ],
      "execution_count": 29,
      "outputs": [
        {
          "output_type": "stream",
          "text": [
            "Time 2nd method: 0.09805703163146973\n"
          ],
          "name": "stdout"
        }
      ]
    }
  ]
}